{
 "cells": [
  {
   "cell_type": "code",
   "execution_count": 2,
   "metadata": {},
   "outputs": [
    {
     "name": "stdout",
     "output_type": "stream",
     "text": [
      "O seu carro está novo!!\n",
      "Fim\n"
     ]
    }
   ],
   "source": [
    "carro = int(input('Quanto tempo tem o seu carro? '))\n",
    "\n",
    "if carro <= 3:\n",
    "    print('O seu carro está novo!!')\n",
    "else:\n",
    "    print('Carro velho!!')\n",
    "\n",
    "print('Fim')"
   ]
  },
  {
   "cell_type": "code",
   "execution_count": 4,
   "metadata": {},
   "outputs": [
    {
     "name": "stdout",
     "output_type": "stream",
     "text": [
      "A sua media foi de 7.5\n",
      "Parabéns!!\n"
     ]
    }
   ],
   "source": [
    "n1 = float(input('Primeira nota: '))\n",
    "n2 = float(input('Segunda nota: '))\n",
    "media = (n1 + n2) / 2\n",
    "\n",
    "print(f'A sua media foi de {media}')\n",
    "\n",
    "if media >= 7:\n",
    "    print('Parabéns!!')\n",
    "else:\n",
    "    print('Estude mais!!')"
   ]
  },
  {
   "cell_type": "code",
   "execution_count": 18,
   "metadata": {},
   "outputs": [
    {
     "name": "stdout",
     "output_type": "stream",
     "text": [
      "Adivinhe o número entre 0 e 5\n",
      "Parabéns você acertou, o número é 2\n"
     ]
    }
   ],
   "source": [
    "from random import randint\n",
    "\n",
    "print('Adivinhe o número entre 0 e 5')\n",
    "\n",
    "computador = randint(0,5)\n",
    "\n",
    "chute = int(input('Chute um número entre 0 e 5: '))\n",
    "\n",
    "if chute == computador:\n",
    "    print(f'Parabéns você acertou, o número é {computador}')\n",
    "else:\n",
    "    print(f'Que pena você errou, o número era {computador}')\n",
    "\n",
    "\n"
   ]
  },
  {
   "cell_type": "code",
   "execution_count": null,
   "metadata": {},
   "outputs": [],
   "source": []
  }
 ],
 "metadata": {
  "kernelspec": {
   "display_name": "Python 3",
   "language": "python",
   "name": "python3"
  },
  "language_info": {
   "codemirror_mode": {
    "name": "ipython",
    "version": 3
   },
   "file_extension": ".py",
   "mimetype": "text/x-python",
   "name": "python",
   "nbconvert_exporter": "python",
   "pygments_lexer": "ipython3",
   "version": "3.13.0"
  }
 },
 "nbformat": 4,
 "nbformat_minor": 2
}
